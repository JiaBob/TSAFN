{
 "cells": [
  {
   "cell_type": "code",
   "execution_count": 1,
   "metadata": {
    "collapsed": true
   },
   "outputs": [],
   "source": [
    "from skimage import io, img_as_float, img_as_uint, transform"
   ]
  },
  {
   "cell_type": "code",
   "execution_count": null,
   "metadata": {
    "collapsed": true
   },
   "outputs": [],
   "source": [
    "img1 = img_as_float(io.imread('../verysmall_dataset/input/4_0.jpg'))\n",
    "img2 = img_as_float(transform.resize(io.imread('../verysmall_dataset/target_TSAFN/4.jpg'), (400, 400, 3)))\n",
    "\n",
    "img = abs(img1 - img2)\n",
    "img = img.sum(2)\n",
    "\n",
    "io.imsave('tanhtimes.jpg', np.tanh(img))"
   ]
  }
 ],
 "metadata": {
  "kernelspec": {
   "display_name": "Python 3",
   "language": "python",
   "name": "python3"
  },
  "language_info": {
   "codemirror_mode": {
    "name": "ipython",
    "version": 3
   },
   "file_extension": ".py",
   "mimetype": "text/x-python",
   "name": "python",
   "nbconvert_exporter": "python",
   "pygments_lexer": "ipython3",
   "version": "3.6.2"
  }
 },
 "nbformat": 4,
 "nbformat_minor": 2
}
